{
 "cells": [
  {
   "cell_type": "code",
   "execution_count": 1,
   "id": "b23f44fb",
   "metadata": {},
   "outputs": [],
   "source": [
    "using DataStructures: DefaultDict\n",
    "using CSV\n",
    "using Clp\n",
    "using JuMP\n",
    "using PyPlot\n",
    "using DataFrames\n",
    "using LinearAlgebra"
   ]
  },
  {
   "cell_type": "code",
   "execution_count": 2,
   "id": "619e1882",
   "metadata": {},
   "outputs": [],
   "source": [
    "raw = CSV.read(\"Metro_Transit_Ridership_by_Route_Weekday.csv\", DataFrame)\n",
    "raw2 = CSV.read(\"Metro_Transit_Ridership_by_Stop.csv\", DataFrame)\n",
    "raw3 = CSV.read(\"Metro_Transit_Ridership_by_Intersection.csv\", DataFrame);"
   ]
  },
  {
   "cell_type": "code",
   "execution_count": 3,
   "id": "d6042693",
   "metadata": {},
   "outputs": [],
   "source": [
    "totalBoardings = combine(groupby(raw, :Route), :DailyBoardings => sum);\n",
    "df = innerjoin(raw, totalBoardings, on = :Route)\n",
    "rename!(df, :DailyBoardings_sum => :RouteBoardings);"
   ]
  },
  {
   "cell_type": "code",
   "execution_count": 4,
   "id": "13daa253",
   "metadata": {},
   "outputs": [],
   "source": [
    "m = DefaultDict(0)\n",
    "for row1 in eachrow(df)\n",
    "    for row2 in eachrow(df)\n",
    "        if row1 != row2\n",
    "            if row1[:Route] == row2[:Route]\n",
    "                part = row2[:DailyBoardings]/(row1[:RouteBoardings]-row1[:DailyBoardings])\n",
    "                m[(row1[:StopID],row2[:StopID])] += row1[:DailyBoardings]*part\n",
    "            end\n",
    "        end\n",
    "    end\n",
    "end"
   ]
  },
  {
   "cell_type": "code",
   "execution_count": 5,
   "id": "449e7076",
   "metadata": {},
   "outputs": [],
   "source": [
    "mvmt = DataFrame(From = Int64[], To = Int64[],Num = Float64[])\n",
    "for ((a,b),c) in m\n",
    "    push!(mvmt,(a,b,c))\n",
    "end"
   ]
  },
  {
   "cell_type": "code",
   "execution_count": 6,
   "id": "91f1d623",
   "metadata": {
    "scrolled": true
   },
   "outputs": [],
   "source": [
    "pos1 = select(raw2,[:Lat,:Lon,:StopID])\n",
    "rename!(pos1, :Lat => :FromLat,:Lon => :FromLon)\n",
    "pos2 = select(raw2,[:Lat,:Lon,:StopID])\n",
    "rename!(pos2, :Lat => :ToLat,:Lon => :ToLon)\n",
    "mvmtPos = innerjoin(mvmt, pos1, on = :From=>:StopID)\n",
    "mvmtPos = innerjoin(mvmtPos, pos2, on = :To=>:StopID);"
   ]
  },
  {
   "cell_type": "code",
   "execution_count": 7,
   "id": "eb10cbdd",
   "metadata": {},
   "outputs": [
    {
     "data": {
      "text/plain": [
       "findClosest (generic function with 1 method)"
      ]
     },
     "execution_count": 7,
     "metadata": {},
     "output_type": "execute_result"
    }
   ],
   "source": [
    "function findClosest(lat,lon)\n",
    "    best = (99,-1)\n",
    "    for row in eachrow(raw3)\n",
    "        dist = (row[:Lat]-lat)^2+(row[:Lon]-lon)^2\n",
    "        best = min(best,(dist,row[:IntersectionID]))\n",
    "    end\n",
    "    return best      \n",
    "end;"
   ]
  },
  {
   "cell_type": "code",
   "execution_count": 8,
   "id": "610c5d86",
   "metadata": {},
   "outputs": [],
   "source": [
    "i = []\n",
    "for row in eachrow(mvmtPos)\n",
    "    push!(i, findClosest(row[:FromLat],row[:FromLon] )[2] )\n",
    "end\n",
    "mvmtPos[!,:FromInt] = i\n",
    "i = []\n",
    "for row in eachrow(mvmtPos)\n",
    "    push!(i, findClosest(row[:ToLat],row[:ToLon] )[2] )\n",
    "end\n",
    "mvmtPos[!,:ToInt] = i;"
   ]
  },
  {
   "cell_type": "code",
   "execution_count": 31,
   "id": "355b4eab",
   "metadata": {},
   "outputs": [
    {
     "data": {
      "text/html": [
       "<div class=\"data-frame\"><p>49,902 rows × 4 columns</p><table class=\"data-frame\"><thead><tr><th></th><th>FromInt</th><th>ToInt</th><th>Num_sum</th><th>Flow</th></tr><tr><th></th><th title=\"Any\">Any</th><th title=\"Any\">Any</th><th title=\"Float64\">Float64</th><th title=\"Int64\">Int64</th></tr></thead><tbody><tr><th>1</th><td>1002</td><td>1013</td><td>159.916</td><td>1599</td></tr><tr><th>2</th><td>1013</td><td>1002</td><td>153.246</td><td>1532</td></tr><tr><th>3</th><td>192</td><td>191</td><td>145.726</td><td>1457</td></tr><tr><th>4</th><td>191</td><td>192</td><td>143.874</td><td>1439</td></tr><tr><th>5</th><td>192</td><td>194</td><td>139.372</td><td>1394</td></tr><tr><th>6</th><td>194</td><td>192</td><td>137.938</td><td>1379</td></tr><tr><th>7</th><td>198</td><td>192</td><td>123.082</td><td>1231</td></tr><tr><th>8</th><td>192</td><td>198</td><td>121.873</td><td>1219</td></tr><tr><th>9</th><td>76</td><td>762</td><td>106.387</td><td>1064</td></tr><tr><th>10</th><td>735</td><td>190</td><td>105.508</td><td>1055</td></tr><tr><th>11</th><td>190</td><td>735</td><td>104.304</td><td>1043</td></tr><tr><th>12</th><td>76</td><td>735</td><td>104.03</td><td>1040</td></tr><tr><th>13</th><td>762</td><td>735</td><td>103.196</td><td>1032</td></tr><tr><th>14</th><td>735</td><td>762</td><td>101.817</td><td>1018</td></tr><tr><th>15</th><td>762</td><td>76</td><td>101.769</td><td>1018</td></tr><tr><th>16</th><td>194</td><td>191</td><td>100.953</td><td>1010</td></tr><tr><th>17</th><td>735</td><td>76</td><td>100.928</td><td>1009</td></tr><tr><th>18</th><td>191</td><td>194</td><td>100.81</td><td>1008</td></tr><tr><th>19</th><td>198</td><td>194</td><td>100.22</td><td>1002</td></tr><tr><th>20</th><td>194</td><td>198</td><td>99.1595</td><td>992</td></tr><tr><th>21</th><td>1011</td><td>1010</td><td>93.7613</td><td>938</td></tr><tr><th>22</th><td>735</td><td>83</td><td>93.0713</td><td>931</td></tr><tr><th>23</th><td>735</td><td>82</td><td>92.4987</td><td>925</td></tr><tr><th>24</th><td>82</td><td>735</td><td>92.3304</td><td>923</td></tr><tr><th>25</th><td>83</td><td>735</td><td>91.3662</td><td>914</td></tr><tr><th>26</th><td>198</td><td>191</td><td>88.8817</td><td>889</td></tr><tr><th>27</th><td>76</td><td>759</td><td>88.4245</td><td>884</td></tr><tr><th>28</th><td>1010</td><td>1011</td><td>88.338</td><td>883</td></tr><tr><th>29</th><td>191</td><td>198</td><td>87.0146</td><td>870</td></tr><tr><th>30</th><td>192</td><td>192</td><td>83.9329</td><td>839</td></tr><tr><th>&vellip;</th><td>&vellip;</td><td>&vellip;</td><td>&vellip;</td><td>&vellip;</td></tr></tbody></table></div>"
      ],
      "text/latex": [
       "\\begin{tabular}{r|cccc}\n",
       "\t& FromInt & ToInt & Num\\_sum & Flow\\\\\n",
       "\t\\hline\n",
       "\t& Any & Any & Float64 & Int64\\\\\n",
       "\t\\hline\n",
       "\t1 & 1002 & 1013 & 159.916 & 1599 \\\\\n",
       "\t2 & 1013 & 1002 & 153.246 & 1532 \\\\\n",
       "\t3 & 192 & 191 & 145.726 & 1457 \\\\\n",
       "\t4 & 191 & 192 & 143.874 & 1439 \\\\\n",
       "\t5 & 192 & 194 & 139.372 & 1394 \\\\\n",
       "\t6 & 194 & 192 & 137.938 & 1379 \\\\\n",
       "\t7 & 198 & 192 & 123.082 & 1231 \\\\\n",
       "\t8 & 192 & 198 & 121.873 & 1219 \\\\\n",
       "\t9 & 76 & 762 & 106.387 & 1064 \\\\\n",
       "\t10 & 735 & 190 & 105.508 & 1055 \\\\\n",
       "\t11 & 190 & 735 & 104.304 & 1043 \\\\\n",
       "\t12 & 76 & 735 & 104.03 & 1040 \\\\\n",
       "\t13 & 762 & 735 & 103.196 & 1032 \\\\\n",
       "\t14 & 735 & 762 & 101.817 & 1018 \\\\\n",
       "\t15 & 762 & 76 & 101.769 & 1018 \\\\\n",
       "\t16 & 194 & 191 & 100.953 & 1010 \\\\\n",
       "\t17 & 735 & 76 & 100.928 & 1009 \\\\\n",
       "\t18 & 191 & 194 & 100.81 & 1008 \\\\\n",
       "\t19 & 198 & 194 & 100.22 & 1002 \\\\\n",
       "\t20 & 194 & 198 & 99.1595 & 992 \\\\\n",
       "\t21 & 1011 & 1010 & 93.7613 & 938 \\\\\n",
       "\t22 & 735 & 83 & 93.0713 & 931 \\\\\n",
       "\t23 & 735 & 82 & 92.4987 & 925 \\\\\n",
       "\t24 & 82 & 735 & 92.3304 & 923 \\\\\n",
       "\t25 & 83 & 735 & 91.3662 & 914 \\\\\n",
       "\t26 & 198 & 191 & 88.8817 & 889 \\\\\n",
       "\t27 & 76 & 759 & 88.4245 & 884 \\\\\n",
       "\t28 & 1010 & 1011 & 88.338 & 883 \\\\\n",
       "\t29 & 191 & 198 & 87.0146 & 870 \\\\\n",
       "\t30 & 192 & 192 & 83.9329 & 839 \\\\\n",
       "\t$\\dots$ & $\\dots$ & $\\dots$ & $\\dots$ & $\\dots$ \\\\\n",
       "\\end{tabular}\n"
      ],
      "text/plain": [
       "\u001b[1m49902×4 DataFrame\u001b[0m\n",
       "\u001b[1m   Row \u001b[0m│\u001b[1m FromInt \u001b[0m\u001b[1m ToInt \u001b[0m\u001b[1m Num_sum     \u001b[0m\u001b[1m Flow  \u001b[0m\n",
       "\u001b[1m       \u001b[0m│\u001b[90m Any     \u001b[0m\u001b[90m Any   \u001b[0m\u001b[90m Float64     \u001b[0m\u001b[90m Int64 \u001b[0m\n",
       "───────┼────────────────────────────────────\n",
       "     1 │ 1002     1013   159.916       1599\n",
       "     2 │ 1013     1002   153.246       1532\n",
       "     3 │ 192      191    145.726       1457\n",
       "     4 │ 191      192    143.874       1439\n",
       "     5 │ 192      194    139.372       1394\n",
       "     6 │ 194      192    137.938       1379\n",
       "     7 │ 198      192    123.082       1231\n",
       "     8 │ 192      198    121.873       1219\n",
       "     9 │ 76       762    106.387       1064\n",
       "    10 │ 735      190    105.508       1055\n",
       "    11 │ 190      735    104.304       1043\n",
       "   ⋮   │    ⋮       ⋮         ⋮         ⋮\n",
       " 49893 │ 461      713      0.0500274      1\n",
       " 49894 │ 148      522      0.0500228      1\n",
       " 49895 │ 991      59       0.0500187      1\n",
       " 49896 │ 777      354      0.050009       1\n",
       " 49897 │ 739      807      0.0500052      1\n",
       " 49898 │ 747      351      0.0500048      1\n",
       " 49899 │ 435      950      0.0500041      1\n",
       " 49900 │ 623      417      0.0500035      1\n",
       " 49901 │ 813      784      0.0500019      1\n",
       " 49902 │ 221      198      0.0500018      1\n",
       "\u001b[36m                          49881 rows omitted\u001b[0m"
      ]
     },
     "execution_count": 31,
     "metadata": {},
     "output_type": "execute_result"
    }
   ],
   "source": [
    "mvmtInt = sort(combine(groupby(mvmtPos, [:FromInt,:ToInt]), :Num => sum),3,rev = true)\n",
    "mvmtInt[!,:Flow] = convert.(Int64, round.(mvmtInt[!,:Num_sum],digits=1)*10 )\n",
    "filter(:Flow => x -> x >0, mvmtInt)"
   ]
  },
  {
   "cell_type": "code",
   "execution_count": 10,
   "id": "a98f1862",
   "metadata": {},
   "outputs": [
    {
     "data": {
      "image/png": "[encoded data removed]",
      "text/plain": [
       "Figure(PyObject <Figure size 640x480 with 1 Axes>)"
      ]
     },
     "metadata": {},
     "output_type": "display_data"
    },
    {
     "name": "stderr",
     "output_type": "stream",
     "text": [
      "┌ Warning: `vendor()` is deprecated, use `BLAS.get_config()` and inspect the output instead\n",
      "│   caller = npyinitialize() at numpy.jl:67\n",
      "└ @ PyCall /Users/ankurgarg/.julia/packages/PyCall/L0fLP/src/numpy.jl:67\n"
     ]
    }
   ],
   "source": [
    "x = round.(raw[!,:X],digits = 6)\n",
    "y = round.(raw[!,:Y],digits = 6)\n",
    "scatter(x,y,s=1);"
   ]
  },
  {
   "cell_type": "code",
   "execution_count": 27,
   "id": "f55dcd0b",
   "metadata": {},
   "outputs": [
    {
     "data": {
      "text/plain": [
       "49902"
      ]
     },
     "execution_count": 27,
     "metadata": {},
     "output_type": "execute_result"
    }
   ],
   "source": [
    "sum(mvmtInt[!,:Flow].>0)"
   ]
  },
  {
   "cell_type": "code",
   "execution_count": null,
   "id": "a6d8a585",
   "metadata": {},
   "outputs": [],
   "source": []
  }
 ],
 "metadata": {
  "kernelspec": {
   "display_name": "Julia 1.7.1",
   "language": "julia",
   "name": "julia-1.7"
  },
  "language_info": {
   "file_extension": ".jl",
   "mimetype": "application/julia",
   "name": "julia",
   "version": "1.7.1"
  }
 },
 "nbformat": 4,
 "nbformat_minor": 5
}
