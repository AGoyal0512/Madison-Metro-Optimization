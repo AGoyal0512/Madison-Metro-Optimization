{
 "cells": [
  {
   "cell_type": "code",
   "execution_count": 1,
   "id": "b23f44fb",
   "metadata": {},
   "outputs": [],
   "source": [
    "using DataStructures: DefaultDict\n",
    "using CSV\n",
    "using Clp\n",
    "using JuMP\n",
    "using PyPlot\n",
    "using DataFrames\n",
    "using LinearAlgebra"
   ]
  },
  {
   "cell_type": "code",
   "execution_count": 82,
   "id": "619e1882",
   "metadata": {},
   "outputs": [
    {
     "data": {
      "text/html": [
       "<div class=\"data-frame\"><p>1,030 rows × 17 columns (omitted printing of 10 columns)</p><table class=\"data-frame\"><thead><tr><th></th><th>X</th><th>Y</th><th>OBJECTID</th><th>IntersectionID</th><th>InterDescription</th><th>Lat</th><th>Lon</th></tr><tr><th></th><th title=\"Float64\">Float64</th><th title=\"Float64\">Float64</th><th title=\"Int64\">Int64</th><th title=\"Int64\">Int64</th><th title=\"Missing\">Missing</th><th title=\"Float64\">Float64</th><th title=\"Float64\">Float64</th></tr></thead><tbody><tr><th>1</th><td>-89.42</td><td>43.105</td><td>1015</td><td>2</td><td><em>missing</em></td><td>43.105</td><td>-89.42</td></tr><tr><th>2</th><td>-89.4287</td><td>43.0743</td><td>1016</td><td>3</td><td><em>missing</em></td><td>43.0743</td><td>-89.4287</td></tr><tr><th>3</th><td>-89.4282</td><td>43.0808</td><td>1017</td><td>4</td><td><em>missing</em></td><td>43.0808</td><td>-89.4282</td></tr><tr><th>4</th><td>-89.4289</td><td>43.0842</td><td>1018</td><td>5</td><td><em>missing</em></td><td>43.0842</td><td>-89.4289</td></tr><tr><th>5</th><td>-89.4336</td><td>43.0862</td><td>1019</td><td>6</td><td><em>missing</em></td><td>43.0862</td><td>-89.4336</td></tr><tr><th>6</th><td>-89.4349</td><td>43.0862</td><td>1020</td><td>7</td><td><em>missing</em></td><td>43.0862</td><td>-89.4349</td></tr><tr><th>7</th><td>-89.4364</td><td>43.0862</td><td>1021</td><td>8</td><td><em>missing</em></td><td>43.0862</td><td>-89.4364</td></tr><tr><th>8</th><td>-89.4386</td><td>43.0863</td><td>1022</td><td>9</td><td><em>missing</em></td><td>43.0863</td><td>-89.4386</td></tr><tr><th>9</th><td>-89.4417</td><td>43.0866</td><td>1023</td><td>10</td><td><em>missing</em></td><td>43.0867</td><td>-89.4417</td></tr><tr><th>10</th><td>-89.4382</td><td>43.0891</td><td>1024</td><td>11</td><td><em>missing</em></td><td>43.0891</td><td>-89.4382</td></tr><tr><th>11</th><td>-89.4373</td><td>43.0897</td><td>1025</td><td>12</td><td><em>missing</em></td><td>43.0897</td><td>-89.4373</td></tr><tr><th>12</th><td>-89.4357</td><td>43.0905</td><td>1026</td><td>13</td><td><em>missing</em></td><td>43.0905</td><td>-89.4357</td></tr><tr><th>13</th><td>-89.4336</td><td>43.0893</td><td>1027</td><td>14</td><td><em>missing</em></td><td>43.0893</td><td>-89.4337</td></tr><tr><th>14</th><td>-89.4334</td><td>43.0782</td><td>1028</td><td>15</td><td><em>missing</em></td><td>43.0782</td><td>-89.4334</td></tr><tr><th>15</th><td>-89.4529</td><td>43.0713</td><td>1029</td><td>16</td><td><em>missing</em></td><td>43.0713</td><td>-89.4529</td></tr><tr><th>16</th><td>-89.4553</td><td>43.0715</td><td>1030</td><td>17</td><td><em>missing</em></td><td>43.0715</td><td>-89.4553</td></tr><tr><th>17</th><td>-89.4596</td><td>43.0728</td><td>1031</td><td>18</td><td><em>missing</em></td><td>43.0728</td><td>-89.4596</td></tr><tr><th>18</th><td>-89.4675</td><td>43.0762</td><td>1032</td><td>19</td><td><em>missing</em></td><td>43.0762</td><td>-89.4675</td></tr><tr><th>19</th><td>-89.4723</td><td>43.0797</td><td>1033</td><td>20</td><td><em>missing</em></td><td>43.0798</td><td>-89.4723</td></tr><tr><th>20</th><td>-89.4857</td><td>43.0939</td><td>1034</td><td>21</td><td><em>missing</em></td><td>43.0939</td><td>-89.4857</td></tr><tr><th>21</th><td>-89.5196</td><td>43.099</td><td>1035</td><td>22</td><td><em>missing</em></td><td>43.099</td><td>-89.5196</td></tr><tr><th>22</th><td>-89.5299</td><td>43.0929</td><td>1036</td><td>23</td><td><em>missing</em></td><td>43.0929</td><td>-89.5299</td></tr><tr><th>23</th><td>-89.5297</td><td>43.0903</td><td>1037</td><td>24</td><td><em>missing</em></td><td>43.0903</td><td>-89.5297</td></tr><tr><th>24</th><td>-89.5329</td><td>43.088</td><td>1038</td><td>25</td><td><em>missing</em></td><td>43.088</td><td>-89.5329</td></tr><tr><th>25</th><td>-89.5268</td><td>43.0837</td><td>1039</td><td>26</td><td><em>missing</em></td><td>43.0838</td><td>-89.5268</td></tr><tr><th>26</th><td>-89.5293</td><td>43.0794</td><td>1040</td><td>27</td><td><em>missing</em></td><td>43.0794</td><td>-89.5293</td></tr><tr><th>27</th><td>-89.5247</td><td>43.0753</td><td>1041</td><td>28</td><td><em>missing</em></td><td>43.0753</td><td>-89.5247</td></tr><tr><th>28</th><td>-89.5252</td><td>43.072</td><td>1042</td><td>30</td><td><em>missing</em></td><td>43.072</td><td>-89.5252</td></tr><tr><th>29</th><td>-89.533</td><td>43.0792</td><td>1043</td><td>31</td><td><em>missing</em></td><td>43.0793</td><td>-89.533</td></tr><tr><th>30</th><td>-89.5256</td><td>43.0653</td><td>1044</td><td>32</td><td><em>missing</em></td><td>43.0653</td><td>-89.5256</td></tr><tr><th>&vellip;</th><td>&vellip;</td><td>&vellip;</td><td>&vellip;</td><td>&vellip;</td><td>&vellip;</td><td>&vellip;</td><td>&vellip;</td></tr></tbody></table></div>"
      ],
      "text/latex": [
       "\\begin{tabular}{r|cccccccc}\n",
       "\t& X & Y & OBJECTID & IntersectionID & InterDescription & Lat & Lon & \\\\\n",
       "\t\\hline\n",
       "\t& Float64 & Float64 & Int64 & Int64 & Missing & Float64 & Float64 & \\\\\n",
       "\t\\hline\n",
       "\t1 & -89.42 & 43.105 & 1015 & 2 & \\emph{missing} & 43.105 & -89.42 & $\\dots$ \\\\\n",
       "\t2 & -89.4287 & 43.0743 & 1016 & 3 & \\emph{missing} & 43.0743 & -89.4287 & $\\dots$ \\\\\n",
       "\t3 & -89.4282 & 43.0808 & 1017 & 4 & \\emph{missing} & 43.0808 & -89.4282 & $\\dots$ \\\\\n",
       "\t4 & -89.4289 & 43.0842 & 1018 & 5 & \\emph{missing} & 43.0842 & -89.4289 & $\\dots$ \\\\\n",
       "\t5 & -89.4336 & 43.0862 & 1019 & 6 & \\emph{missing} & 43.0862 & -89.4336 & $\\dots$ \\\\\n",
       "\t6 & -89.4349 & 43.0862 & 1020 & 7 & \\emph{missing} & 43.0862 & -89.4349 & $\\dots$ \\\\\n",
       "\t7 & -89.4364 & 43.0862 & 1021 & 8 & \\emph{missing} & 43.0862 & -89.4364 & $\\dots$ \\\\\n",
       "\t8 & -89.4386 & 43.0863 & 1022 & 9 & \\emph{missing} & 43.0863 & -89.4386 & $\\dots$ \\\\\n",
       "\t9 & -89.4417 & 43.0866 & 1023 & 10 & \\emph{missing} & 43.0867 & -89.4417 & $\\dots$ \\\\\n",
       "\t10 & -89.4382 & 43.0891 & 1024 & 11 & \\emph{missing} & 43.0891 & -89.4382 & $\\dots$ \\\\\n",
       "\t11 & -89.4373 & 43.0897 & 1025 & 12 & \\emph{missing} & 43.0897 & -89.4373 & $\\dots$ \\\\\n",
       "\t12 & -89.4357 & 43.0905 & 1026 & 13 & \\emph{missing} & 43.0905 & -89.4357 & $\\dots$ \\\\\n",
       "\t13 & -89.4336 & 43.0893 & 1027 & 14 & \\emph{missing} & 43.0893 & -89.4337 & $\\dots$ \\\\\n",
       "\t14 & -89.4334 & 43.0782 & 1028 & 15 & \\emph{missing} & 43.0782 & -89.4334 & $\\dots$ \\\\\n",
       "\t15 & -89.4529 & 43.0713 & 1029 & 16 & \\emph{missing} & 43.0713 & -89.4529 & $\\dots$ \\\\\n",
       "\t16 & -89.4553 & 43.0715 & 1030 & 17 & \\emph{missing} & 43.0715 & -89.4553 & $\\dots$ \\\\\n",
       "\t17 & -89.4596 & 43.0728 & 1031 & 18 & \\emph{missing} & 43.0728 & -89.4596 & $\\dots$ \\\\\n",
       "\t18 & -89.4675 & 43.0762 & 1032 & 19 & \\emph{missing} & 43.0762 & -89.4675 & $\\dots$ \\\\\n",
       "\t19 & -89.4723 & 43.0797 & 1033 & 20 & \\emph{missing} & 43.0798 & -89.4723 & $\\dots$ \\\\\n",
       "\t20 & -89.4857 & 43.0939 & 1034 & 21 & \\emph{missing} & 43.0939 & -89.4857 & $\\dots$ \\\\\n",
       "\t21 & -89.5196 & 43.099 & 1035 & 22 & \\emph{missing} & 43.099 & -89.5196 & $\\dots$ \\\\\n",
       "\t22 & -89.5299 & 43.0929 & 1036 & 23 & \\emph{missing} & 43.0929 & -89.5299 & $\\dots$ \\\\\n",
       "\t23 & -89.5297 & 43.0903 & 1037 & 24 & \\emph{missing} & 43.0903 & -89.5297 & $\\dots$ \\\\\n",
       "\t24 & -89.5329 & 43.088 & 1038 & 25 & \\emph{missing} & 43.088 & -89.5329 & $\\dots$ \\\\\n",
       "\t25 & -89.5268 & 43.0837 & 1039 & 26 & \\emph{missing} & 43.0838 & -89.5268 & $\\dots$ \\\\\n",
       "\t26 & -89.5293 & 43.0794 & 1040 & 27 & \\emph{missing} & 43.0794 & -89.5293 & $\\dots$ \\\\\n",
       "\t27 & -89.5247 & 43.0753 & 1041 & 28 & \\emph{missing} & 43.0753 & -89.5247 & $\\dots$ \\\\\n",
       "\t28 & -89.5252 & 43.072 & 1042 & 30 & \\emph{missing} & 43.072 & -89.5252 & $\\dots$ \\\\\n",
       "\t29 & -89.533 & 43.0792 & 1043 & 31 & \\emph{missing} & 43.0793 & -89.533 & $\\dots$ \\\\\n",
       "\t30 & -89.5256 & 43.0653 & 1044 & 32 & \\emph{missing} & 43.0653 & -89.5256 & $\\dots$ \\\\\n",
       "\t$\\dots$ & $\\dots$ & $\\dots$ & $\\dots$ & $\\dots$ & $\\dots$ & $\\dots$ & $\\dots$ &  \\\\\n",
       "\\end{tabular}\n"
      ],
      "text/plain": [
       "\u001b[1m1030×17 DataFrame\u001b[0m\n",
       "\u001b[1m  Row \u001b[0m│\u001b[1m X        \u001b[0m\u001b[1m Y       \u001b[0m\u001b[1m OBJECTID \u001b[0m\u001b[1m IntersectionID \u001b[0m\u001b[1m InterDescription \u001b[0m\u001b[1m Lat    \u001b[0m ⋯\n",
       "\u001b[1m      \u001b[0m│\u001b[90m Float64  \u001b[0m\u001b[90m Float64 \u001b[0m\u001b[90m Int64    \u001b[0m\u001b[90m Int64          \u001b[0m\u001b[90m Missing          \u001b[0m\u001b[90m Float64\u001b[0m ⋯\n",
       "──────┼─────────────────────────────────────────────────────────────────────────\n",
       "    1 │ -89.42    43.105       1015               2 \u001b[90m          missing \u001b[0m 43.105  ⋯\n",
       "    2 │ -89.4287  43.0743      1016               3 \u001b[90m          missing \u001b[0m 43.0743\n",
       "    3 │ -89.4282  43.0808      1017               4 \u001b[90m          missing \u001b[0m 43.0808\n",
       "    4 │ -89.4289  43.0842      1018               5 \u001b[90m          missing \u001b[0m 43.0842\n",
       "    5 │ -89.4336  43.0862      1019               6 \u001b[90m          missing \u001b[0m 43.0862 ⋯\n",
       "    6 │ -89.4349  43.0862      1020               7 \u001b[90m          missing \u001b[0m 43.0862\n",
       "    7 │ -89.4364  43.0862      1021               8 \u001b[90m          missing \u001b[0m 43.0862\n",
       "    8 │ -89.4386  43.0863      1022               9 \u001b[90m          missing \u001b[0m 43.0863\n",
       "    9 │ -89.4417  43.0866      1023              10 \u001b[90m          missing \u001b[0m 43.0867 ⋯\n",
       "   10 │ -89.4382  43.0891      1024              11 \u001b[90m          missing \u001b[0m 43.0891\n",
       "   11 │ -89.4373  43.0897      1025              12 \u001b[90m          missing \u001b[0m 43.0897\n",
       "  ⋮   │    ⋮         ⋮        ⋮            ⋮                ⋮             ⋮    ⋱\n",
       " 1021 │ -89.2481  43.1713      2035            1026 \u001b[90m          missing \u001b[0m 43.1713\n",
       " 1022 │ -89.2448  43.1742      2036            1027 \u001b[90m          missing \u001b[0m 43.1742 ⋯\n",
       " 1023 │ -89.2489  43.1759      2037            1028 \u001b[90m          missing \u001b[0m 43.1759\n",
       " 1024 │ -89.2551  43.1764      2038            1029 \u001b[90m          missing \u001b[0m 43.1764\n",
       " 1025 │ -89.2641  43.176       2039            1030 \u001b[90m          missing \u001b[0m 43.176\n",
       " 1026 │ -89.265   43.1717      2040            1031 \u001b[90m          missing \u001b[0m 43.1717 ⋯\n",
       " 1027 │ -89.2702  43.1717      2041            1032 \u001b[90m          missing \u001b[0m 43.1717\n",
       " 1028 │ -89.2704  43.1692      2042            1033 \u001b[90m          missing \u001b[0m 43.1692\n",
       " 1029 │ -89.2724  43.1662      2043            1034 \u001b[90m          missing \u001b[0m 43.1662\n",
       " 1030 │ -89.2782  43.165       2044            1035 \u001b[90m          missing \u001b[0m 43.165  ⋯\n",
       "\u001b[36m                                                11 columns and 1009 rows omitted\u001b[0m"
      ]
     },
     "execution_count": 82,
     "metadata": {},
     "output_type": "execute_result"
    }
   ],
   "source": [
    "raw = CSV.read(\"Metro_Transit_Ridership_by_Route_Weekday.csv\", DataFrame) #main data\n",
    "raw2 = CSV.read(\"Metro_Transit_Ridership_by_Stop.csv\", DataFrame)         #not needed\n",
    "raw3 = CSV.read(\"Metro_Transit_Ridership_by_Intersection.csv\", DataFrame) #intersection info\n",
    "delete!(raw3, [1])"
   ]
  },
  {
   "cell_type": "code",
   "execution_count": 101,
   "id": "d4b4462a",
   "metadata": {},
   "outputs": [
    {
     "data": {
      "text/html": [
       "<div class=\"data-frame\"><p>200 rows × 9 columns</p><table class=\"data-frame\"><thead><tr><th></th><th>X</th><th>Y</th><th>OBJECTID</th><th>StopID</th><th>Route</th><th>Lat</th><th>Lon</th><th>DailyBoardings</th><th>DotSize</th></tr><tr><th></th><th title=\"Float64\">Float64</th><th title=\"Float64\">Float64</th><th title=\"Int64\">Int64</th><th title=\"Int64\">Int64</th><th title=\"Int64\">Int64</th><th title=\"Float64\">Float64</th><th title=\"Float64\">Float64</th><th title=\"Float64\">Float64</th><th title=\"Float64\">Float64</th></tr></thead><tbody><tr><th>1</th><td>-89.407</td><td>43.0711</td><td>20007</td><td>5</td><td>80</td><td>43.0711</td><td>-89.407</td><td>322.93</td><td>3.22926e6</td></tr><tr><th>2</th><td>-89.4002</td><td>43.0759</td><td>20008</td><td>10</td><td>80</td><td>43.0759</td><td>-89.4002</td><td>875.26</td><td>8.75264e6</td></tr><tr><th>3</th><td>-89.4002</td><td>43.0759</td><td>20009</td><td>10</td><td>81</td><td>43.0759</td><td>-89.4002</td><td>79.74</td><td>7.97389e5</td></tr><tr><th>4</th><td>-89.4002</td><td>43.0759</td><td>20010</td><td>10</td><td>82</td><td>43.0759</td><td>-89.4002</td><td>16.9</td><td>168965.0</td></tr><tr><th>5</th><td>-89.397</td><td>43.0758</td><td>20011</td><td>25</td><td>81</td><td>43.0758</td><td>-89.397</td><td>24.06</td><td>2.40553e5</td></tr><tr><th>6</th><td>-89.3973</td><td>43.0718</td><td>20012</td><td>39</td><td>80</td><td>43.0718</td><td>-89.3973</td><td>664.91</td><td>6.64914e6</td></tr><tr><th>7</th><td>-89.3901</td><td>43.0784</td><td>20013</td><td>45</td><td>81</td><td>43.0784</td><td>-89.3901</td><td>0.78</td><td>7795.7</td></tr><tr><th>8</th><td>-89.4127</td><td>43.0746</td><td>20014</td><td>47</td><td>11</td><td>43.0746</td><td>-89.4127</td><td>0.22</td><td>2230.54</td></tr><tr><th>9</th><td>-89.4127</td><td>43.0746</td><td>20015</td><td>47</td><td>27</td><td>43.0746</td><td>-89.4127</td><td>6.0</td><td>60000.0</td></tr><tr><th>10</th><td>-89.3973</td><td>43.0756</td><td>20016</td><td>49</td><td>80</td><td>43.0756</td><td>-89.3973</td><td>701.13</td><td>7.01131e6</td></tr><tr><th>11</th><td>-89.3973</td><td>43.0756</td><td>20017</td><td>49</td><td>81</td><td>43.0756</td><td>-89.3973</td><td>16.93</td><td>1.69278e5</td></tr><tr><th>12</th><td>-89.3973</td><td>43.0756</td><td>20018</td><td>49</td><td>82</td><td>43.0756</td><td>-89.3973</td><td>5.67</td><td>56692.2</td></tr><tr><th>13</th><td>-89.4056</td><td>43.0761</td><td>20019</td><td>52</td><td>80</td><td>43.0761</td><td>-89.4056</td><td>263.05</td><td>2.6305e6</td></tr><tr><th>14</th><td>-89.4056</td><td>43.0761</td><td>20020</td><td>52</td><td>81</td><td>43.0761</td><td>-89.4056</td><td>6.35</td><td>63479.3</td></tr><tr><th>15</th><td>-89.407</td><td>43.0766</td><td>20021</td><td>56</td><td>81</td><td>43.0766</td><td>-89.407</td><td>2.9</td><td>28955.5</td></tr><tr><th>16</th><td>-89.4036</td><td>43.0759</td><td>20022</td><td>60</td><td>80</td><td>43.0759</td><td>-89.4036</td><td>166.17</td><td>1.66172e6</td></tr><tr><th>17</th><td>-89.4036</td><td>43.0759</td><td>20023</td><td>60</td><td>81</td><td>43.0759</td><td>-89.4036</td><td>1.67</td><td>16705.1</td></tr><tr><th>18</th><td>-89.4037</td><td>43.071</td><td>20024</td><td>61</td><td>80</td><td>43.071</td><td>-89.4037</td><td>102.48</td><td>1.02484e6</td></tr><tr><th>19</th><td>-89.3975</td><td>43.0722</td><td>20025</td><td>68</td><td>82</td><td>43.0722</td><td>-89.3975</td><td>5.45</td><td>54469.0</td></tr><tr><th>20</th><td>-89.4007</td><td>43.0743</td><td>20026</td><td>70</td><td>82</td><td>43.0743</td><td>-89.4007</td><td>5.11</td><td>51134.1</td></tr><tr><th>21</th><td>-89.3997</td><td>43.0709</td><td>20027</td><td>75</td><td>80</td><td>43.0709</td><td>-89.3997</td><td>421.49</td><td>4.21486e6</td></tr><tr><th>22</th><td>-89.3924</td><td>43.0741</td><td>20028</td><td>87</td><td>1</td><td>43.0741</td><td>-89.3924</td><td>5.25</td><td>52496.0</td></tr><tr><th>23</th><td>-89.3924</td><td>43.0741</td><td>20029</td><td>87</td><td>10</td><td>43.0741</td><td>-89.3924</td><td>38.9</td><td>3.88965e5</td></tr><tr><th>24</th><td>-89.3924</td><td>43.0741</td><td>20030</td><td>87</td><td>11</td><td>43.0741</td><td>-89.3924</td><td>2.12</td><td>21190.1</td></tr><tr><th>25</th><td>-89.3924</td><td>43.0741</td><td>20031</td><td>87</td><td>19</td><td>43.0741</td><td>-89.3924</td><td>14.79</td><td>1.47945e5</td></tr><tr><th>26</th><td>-89.3924</td><td>43.0741</td><td>20032</td><td>87</td><td>38</td><td>43.0741</td><td>-89.3924</td><td>41.31</td><td>4.13052e5</td></tr><tr><th>27</th><td>-89.3924</td><td>43.0741</td><td>20033</td><td>87</td><td>82</td><td>43.0741</td><td>-89.3924</td><td>6.78</td><td>67808.3</td></tr><tr><th>28</th><td>-89.3922</td><td>43.0769</td><td>20034</td><td>89</td><td>81</td><td>43.0769</td><td>-89.3922</td><td>2.23</td><td>22273.4</td></tr><tr><th>29</th><td>-89.3882</td><td>43.0776</td><td>20035</td><td>96</td><td>81</td><td>43.0776</td><td>-89.3882</td><td>3.79</td><td>37864.8</td></tr><tr><th>30</th><td>-89.4001</td><td>43.0758</td><td>20036</td><td>99</td><td>81</td><td>43.0758</td><td>-89.4001</td><td>87.2</td><td>8.72005e5</td></tr><tr><th>&vellip;</th><td>&vellip;</td><td>&vellip;</td><td>&vellip;</td><td>&vellip;</td><td>&vellip;</td><td>&vellip;</td><td>&vellip;</td><td>&vellip;</td><td>&vellip;</td></tr></tbody></table></div>"
      ],
      "text/latex": [
       "\\begin{tabular}{r|ccccccccc}\n",
       "\t& X & Y & OBJECTID & StopID & Route & Lat & Lon & DailyBoardings & DotSize\\\\\n",
       "\t\\hline\n",
       "\t& Float64 & Float64 & Int64 & Int64 & Int64 & Float64 & Float64 & Float64 & Float64\\\\\n",
       "\t\\hline\n",
       "\t1 & -89.407 & 43.0711 & 20007 & 5 & 80 & 43.0711 & -89.407 & 322.93 & 3.22926e6 \\\\\n",
       "\t2 & -89.4002 & 43.0759 & 20008 & 10 & 80 & 43.0759 & -89.4002 & 875.26 & 8.75264e6 \\\\\n",
       "\t3 & -89.4002 & 43.0759 & 20009 & 10 & 81 & 43.0759 & -89.4002 & 79.74 & 7.97389e5 \\\\\n",
       "\t4 & -89.4002 & 43.0759 & 20010 & 10 & 82 & 43.0759 & -89.4002 & 16.9 & 168965.0 \\\\\n",
       "\t5 & -89.397 & 43.0758 & 20011 & 25 & 81 & 43.0758 & -89.397 & 24.06 & 2.40553e5 \\\\\n",
       "\t6 & -89.3973 & 43.0718 & 20012 & 39 & 80 & 43.0718 & -89.3973 & 664.91 & 6.64914e6 \\\\\n",
       "\t7 & -89.3901 & 43.0784 & 20013 & 45 & 81 & 43.0784 & -89.3901 & 0.78 & 7795.7 \\\\\n",
       "\t8 & -89.4127 & 43.0746 & 20014 & 47 & 11 & 43.0746 & -89.4127 & 0.22 & 2230.54 \\\\\n",
       "\t9 & -89.4127 & 43.0746 & 20015 & 47 & 27 & 43.0746 & -89.4127 & 6.0 & 60000.0 \\\\\n",
       "\t10 & -89.3973 & 43.0756 & 20016 & 49 & 80 & 43.0756 & -89.3973 & 701.13 & 7.01131e6 \\\\\n",
       "\t11 & -89.3973 & 43.0756 & 20017 & 49 & 81 & 43.0756 & -89.3973 & 16.93 & 1.69278e5 \\\\\n",
       "\t12 & -89.3973 & 43.0756 & 20018 & 49 & 82 & 43.0756 & -89.3973 & 5.67 & 56692.2 \\\\\n",
       "\t13 & -89.4056 & 43.0761 & 20019 & 52 & 80 & 43.0761 & -89.4056 & 263.05 & 2.6305e6 \\\\\n",
       "\t14 & -89.4056 & 43.0761 & 20020 & 52 & 81 & 43.0761 & -89.4056 & 6.35 & 63479.3 \\\\\n",
       "\t15 & -89.407 & 43.0766 & 20021 & 56 & 81 & 43.0766 & -89.407 & 2.9 & 28955.5 \\\\\n",
       "\t16 & -89.4036 & 43.0759 & 20022 & 60 & 80 & 43.0759 & -89.4036 & 166.17 & 1.66172e6 \\\\\n",
       "\t17 & -89.4036 & 43.0759 & 20023 & 60 & 81 & 43.0759 & -89.4036 & 1.67 & 16705.1 \\\\\n",
       "\t18 & -89.4037 & 43.071 & 20024 & 61 & 80 & 43.071 & -89.4037 & 102.48 & 1.02484e6 \\\\\n",
       "\t19 & -89.3975 & 43.0722 & 20025 & 68 & 82 & 43.0722 & -89.3975 & 5.45 & 54469.0 \\\\\n",
       "\t20 & -89.4007 & 43.0743 & 20026 & 70 & 82 & 43.0743 & -89.4007 & 5.11 & 51134.1 \\\\\n",
       "\t21 & -89.3997 & 43.0709 & 20027 & 75 & 80 & 43.0709 & -89.3997 & 421.49 & 4.21486e6 \\\\\n",
       "\t22 & -89.3924 & 43.0741 & 20028 & 87 & 1 & 43.0741 & -89.3924 & 5.25 & 52496.0 \\\\\n",
       "\t23 & -89.3924 & 43.0741 & 20029 & 87 & 10 & 43.0741 & -89.3924 & 38.9 & 3.88965e5 \\\\\n",
       "\t24 & -89.3924 & 43.0741 & 20030 & 87 & 11 & 43.0741 & -89.3924 & 2.12 & 21190.1 \\\\\n",
       "\t25 & -89.3924 & 43.0741 & 20031 & 87 & 19 & 43.0741 & -89.3924 & 14.79 & 1.47945e5 \\\\\n",
       "\t26 & -89.3924 & 43.0741 & 20032 & 87 & 38 & 43.0741 & -89.3924 & 41.31 & 4.13052e5 \\\\\n",
       "\t27 & -89.3924 & 43.0741 & 20033 & 87 & 82 & 43.0741 & -89.3924 & 6.78 & 67808.3 \\\\\n",
       "\t28 & -89.3922 & 43.0769 & 20034 & 89 & 81 & 43.0769 & -89.3922 & 2.23 & 22273.4 \\\\\n",
       "\t29 & -89.3882 & 43.0776 & 20035 & 96 & 81 & 43.0776 & -89.3882 & 3.79 & 37864.8 \\\\\n",
       "\t30 & -89.4001 & 43.0758 & 20036 & 99 & 81 & 43.0758 & -89.4001 & 87.2 & 8.72005e5 \\\\\n",
       "\t$\\dots$ & $\\dots$ & $\\dots$ & $\\dots$ & $\\dots$ & $\\dots$ & $\\dots$ & $\\dots$ & $\\dots$ & $\\dots$ \\\\\n",
       "\\end{tabular}\n"
      ],
      "text/plain": [
       "\u001b[1m200×9 DataFrame\u001b[0m\n",
       "\u001b[1m Row \u001b[0m│\u001b[1m X        \u001b[0m\u001b[1m Y       \u001b[0m\u001b[1m OBJECTID \u001b[0m\u001b[1m StopID \u001b[0m\u001b[1m Route \u001b[0m\u001b[1m Lat     \u001b[0m\u001b[1m Lon      \u001b[0m\u001b[1m DailyBoa\u001b[0m ⋯\n",
       "\u001b[1m     \u001b[0m│\u001b[90m Float64  \u001b[0m\u001b[90m Float64 \u001b[0m\u001b[90m Int64    \u001b[0m\u001b[90m Int64  \u001b[0m\u001b[90m Int64 \u001b[0m\u001b[90m Float64 \u001b[0m\u001b[90m Float64  \u001b[0m\u001b[90m Float64 \u001b[0m ⋯\n",
       "─────┼──────────────────────────────────────────────────────────────────────────\n",
       "   1 │ -89.407   43.0711     20007       5     80  43.0711  -89.407            ⋯\n",
       "   2 │ -89.4002  43.0759     20008      10     80  43.0759  -89.4002\n",
       "   3 │ -89.4002  43.0759     20009      10     81  43.0759  -89.4002\n",
       "   4 │ -89.4002  43.0759     20010      10     82  43.0759  -89.4002\n",
       "   5 │ -89.397   43.0758     20011      25     81  43.0758  -89.397            ⋯\n",
       "   6 │ -89.3973  43.0718     20012      39     80  43.0718  -89.3973\n",
       "   7 │ -89.3901  43.0784     20013      45     81  43.0784  -89.3901\n",
       "   8 │ -89.4127  43.0746     20014      47     11  43.0746  -89.4127\n",
       "   9 │ -89.4127  43.0746     20015      47     27  43.0746  -89.4127           ⋯\n",
       "  10 │ -89.3973  43.0756     20016      49     80  43.0756  -89.3973\n",
       "  11 │ -89.3973  43.0756     20017      49     81  43.0756  -89.3973\n",
       "  ⋮  │    ⋮         ⋮        ⋮        ⋮       ⋮       ⋮        ⋮            ⋮  ⋱\n",
       " 191 │ -89.4038  43.0734     20197     234     70  43.0734  -89.4039\n",
       " 192 │ -89.4038  43.0734     20198     234     71  43.0734  -89.4039           ⋯\n",
       " 193 │ -89.4038  43.0734     20199     234     72  43.0734  -89.4039\n",
       " 194 │ -89.3873  43.0725     20200     235      5  43.0725  -89.3873\n",
       " 195 │ -89.3873  43.0725     20201     235     27  43.0725  -89.3873\n",
       " 196 │ -89.3747  43.0472     20202     243     11  43.0472  -89.3747           ⋯\n",
       " 197 │ -89.3747  43.0472     20203     243     12  43.0472  -89.3747\n",
       " 198 │ -89.3747  43.0472     20204     243     13  43.0472  -89.3747\n",
       " 199 │ -89.3824  43.0718     20205     248      1  43.0718  -89.3824\n",
       " 200 │ -89.3824  43.0718     20206     248     12  43.0718  -89.3824           ⋯\n",
       "\u001b[36m                                                  2 columns and 179 rows omitted\u001b[0m"
      ]
     },
     "execution_count": 101,
     "metadata": {},
     "output_type": "execute_result"
    }
   ],
   "source": [
    "raw =first(raw , 400)"
   ]
  },
  {
   "cell_type": "code",
   "execution_count": 102,
   "id": "d6042693",
   "metadata": {},
   "outputs": [],
   "source": [
    "totalBoardings = combine(groupby(raw, :Route), :DailyBoardings => sum);\n",
    "df = innerjoin(raw, totalBoardings, on = :Route)\n",
    "rename!(df, :DailyBoardings_sum => :RouteBoardings);"
   ]
  },
  {
   "cell_type": "code",
   "execution_count": 103,
   "id": "13daa253",
   "metadata": {},
   "outputs": [],
   "source": [
    "m = DefaultDict(0)\n",
    "for row1 in eachrow(df)\n",
    "    for row2 in eachrow(df)\n",
    "        if row1 != row2\n",
    "            if row1[:Route] == row2[:Route]\n",
    "                part = row2[:DailyBoardings]/(row1[:RouteBoardings]-row1[:DailyBoardings])\n",
    "                m[(row1[:StopID],row2[:StopID])] += row1[:DailyBoardings]*part\n",
    "            end\n",
    "        end\n",
    "    end\n",
    "end"
   ]
  },
  {
   "cell_type": "code",
   "execution_count": 104,
   "id": "449e7076",
   "metadata": {},
   "outputs": [],
   "source": [
    "mvmt = DataFrame(From = Int64[], To = Int64[],Num = Float64[])\n",
    "for ((a,b),c) in m\n",
    "    push!(mvmt,(a,b,c))\n",
    "end"
   ]
  },
  {
   "cell_type": "code",
   "execution_count": 105,
   "id": "91f1d623",
   "metadata": {},
   "outputs": [],
   "source": [
    "pos1 = select(raw2,[:Lat,:Lon,:StopID])\n",
    "rename!(pos1, :Lat => :FromLat,:Lon => :FromLon)\n",
    "pos2 = select(raw2,[:Lat,:Lon,:StopID])\n",
    "rename!(pos2, :Lat => :ToLat,:Lon => :ToLon)\n",
    "mvmtPos = innerjoin(mvmt, pos1, on = :From=>:StopID)\n",
    "mvmtPos = innerjoin(mvmtPos, pos2, on = :To=>:StopID);"
   ]
  },
  {
   "cell_type": "code",
   "execution_count": 106,
   "id": "eb10cbdd",
   "metadata": {},
   "outputs": [],
   "source": [
    "function findClosest(lat,lon)\n",
    "    best = (99,-1)\n",
    "    for row in eachrow(raw3)\n",
    "        dist = (row[:Lat]-lat)^2+(row[:Lon]-lon)^2\n",
    "        best = min(best,(dist,row[:IntersectionID]))\n",
    "    end\n",
    "    return best      \n",
    "end;"
   ]
  },
  {
   "cell_type": "code",
   "execution_count": 107,
   "id": "610c5d86",
   "metadata": {},
   "outputs": [],
   "source": [
    "i = []\n",
    "for row in eachrow(mvmtPos)\n",
    "    push!(i, findClosest(row[:FromLat],row[:FromLon] )[2] )\n",
    "end\n",
    "mvmtPos[!,:FromInt] = i\n",
    "i = []\n",
    "for row in eachrow(mvmtPos)\n",
    "    push!(i, findClosest(row[:ToLat],row[:ToLon] )[2] )\n",
    "end\n",
    "mvmtPos[!,:ToInt] = i;"
   ]
  },
  {
   "cell_type": "code",
   "execution_count": 108,
   "id": "355b4eab",
   "metadata": {},
   "outputs": [],
   "source": [
    "mvmtInt = sort(combine(groupby(mvmtPos, [:FromInt,:ToInt]), :Num => sum),[1,2])\n",
    "mvmtInt[!,:Flow] = convert.(Int64, round.(mvmtInt[!,:Num_sum],digits=1)*10 )\n",
    "filteredFlow = filter(:Flow => x -> x >0, mvmtInt)\n",
    "filteredFlow = filter([:FromInt,:ToInt] => (x,y) -> x !=y, filteredFlow);"
   ]
  },
  {
   "cell_type": "code",
   "execution_count": 109,
   "id": "3567a4fc",
   "metadata": {},
   "outputs": [
    {
     "data": {
      "text/plain": [
       "51"
      ]
     },
     "execution_count": 109,
     "metadata": {},
     "output_type": "execute_result"
    }
   ],
   "source": [
    "interset = union(Set(filteredFlow[!,:FromInt]), Set(filteredFlow[!,:ToInt]))\n",
    "inters = filter(:IntersectionID => x -> x in interset, raw3)\n",
    "N = nrow(inters)\n",
    "M = N^2-N\n",
    "reIndex = Dict()\n",
    "for (i,v) in enumerate(inters[!,:IntersectionID] )\n",
    "    reIndex[v] = i\n",
    "end\n",
    "inters[!,:IntersectionID] = collect(1:N)\n",
    "N"
   ]
  },
  {
   "cell_type": "code",
   "execution_count": 110,
   "id": "2841b4cc",
   "metadata": {},
   "outputs": [],
   "source": [
    "function cost(x1,y1,x2,y2)\n",
    "    return  (x1-x2)^2 + (y1-y2)^2   \n",
    "end;"
   ]
  },
  {
   "cell_type": "code",
   "execution_count": 111,
   "id": "2d60a813",
   "metadata": {},
   "outputs": [],
   "source": [
    "A = Array{Int}(undef, N, 0)\n",
    "c = Vector{Float64}(undef, 0)\n",
    "for row1 in eachrow(inters)\n",
    "    for row2 in eachrow(inters)\n",
    "        if row1[:IntersectionID] != row2[:IntersectionID]\n",
    "            e = zeros(Int8, N)\n",
    "            e[row1[:IntersectionID]] = 1\n",
    "            e[row2[:IntersectionID]] = -1\n",
    "            A = [A e]\n",
    "            push!(c,cost(row1[:Lat],row1[:Lon],row2[:Lat],row2[:Lon]))\n",
    "        end\n",
    "    end\n",
    "end"
   ]
  },
  {
   "cell_type": "code",
   "execution_count": 112,
   "id": "2234936e",
   "metadata": {},
   "outputs": [],
   "source": [
    "m = Model(with_optimizer(Clp.Optimizer))\n",
    "#set_silent(m)\n",
    "numFlows = nrow(filteredFlow)\n",
    "@variable(m, X[1:numFlows, 1:M]>=0)\n",
    "for (i, row) in enumerate(eachrow(filteredFlow))\n",
    "    b = zeros(Int64, N)\n",
    "    b[reIndex[row[:FromInt]]] = row[:Flow]\n",
    "    b[reIndex[row[:ToInt]]] = -row[:Flow]\n",
    "    @constraint(m, A*(X[i,:]) .== b)\n",
    "end\n",
    "@expression(m, x,  sum(X,dims=1) )\n",
    "@objective(m,Min,dot(x,c));"
   ]
  },
  {
   "cell_type": "code",
   "execution_count": 113,
   "id": "7b7f9593",
   "metadata": {},
   "outputs": [
    {
     "name": "stdout",
     "output_type": "stream",
     "text": [
      "Coin0506I Presolve 31467 (0) rows, 1573350 (0) columns and 3146700 (0) elements\n",
      "Clp0006I 0  Obj 0 Primal inf 168384 (1234)\n",
      "Clp0006I 382  Obj 1.2866583 Primal inf 60880 (1164)\n",
      "Clp0006I 764  Obj 1.6721809 Primal inf 27466 (1072)\n",
      "Clp0006I 1146  Obj 1.8949855 Primal inf 15382 (1008)\n",
      "Clp0006I 1528  Obj 2.0491155 Primal inf 10778 (958)\n",
      "Clp0006I 1910  Obj 2.1325057 Primal inf 8263.9999 (918)\n",
      "Clp0006I 2292  Obj 2.1967598 Primal inf 6747.9999 (886)\n",
      "Clp0006I 2674  Obj 2.2537119 Primal inf 5353.9999 (836)\n",
      "Clp0006I 3056  Obj 2.2910852 Primal inf 4049.9999 (782)\n",
      "Clp0006I 3438  Obj 2.321743 Primal inf 3437.9999 (752)\n",
      "Clp0006I 3820  Obj 2.3503435 Primal inf 2891.9999 (720)\n",
      "Clp0006I 4202  Obj 2.370837 Primal inf 2495.9999 (686)\n",
      "Clp0006I 4584  Obj 2.3889396 Primal inf 1943.9999 (628)\n",
      "Clp0006I 4966  Obj 2.402862 Primal inf 1539.9999 (566)\n",
      "Clp0006I 5348  Obj 2.4138065 Primal inf 1271.9999 (522)\n",
      "Clp0006I 5730  Obj 2.4230652 Primal inf 1068 (480)\n",
      "Clp0006I 6112  Obj 2.43085 Primal inf 785.99996 (416)\n",
      "Clp0006I 6494  Obj 2.4365993 Primal inf 627.99996 (376)\n",
      "Clp0006I 6876  Obj 2.4414574 Primal inf 545.99997 (338)\n",
      "Clp0006I 7258  Obj 2.4452774 Primal inf 427.99997 (286)\n",
      "Clp0006I 7640  Obj 2.4484984 Primal inf 325.99998 (242)\n",
      "Clp0006I 8022  Obj 2.4511594 Primal inf 225.99998 (192)\n",
      "Clp0006I 8404  Obj 2.4536547 Primal inf 143.99999 (140)\n",
      "Clp0006I 8786  Obj 2.4549736 Primal inf 107.99999 (108)\n",
      "Clp0006I 9168  Obj 2.4566568 Primal inf 45.999995 (46)\n",
      "Clp0006I 9337  Obj 2.4572233\n",
      "Clp0000I Optimal - objective value 2.4572157\n",
      "Clp0032I Optimal objective 2.457215726 - 9337 iterations time 2.122\n"
     ]
    }
   ],
   "source": [
    "optimize!(m)"
   ]
  },
  {
   "cell_type": "code",
   "execution_count": 114,
   "id": "3e2f880d",
   "metadata": {},
   "outputs": [],
   "source": [
    "x_opt = value.(x);"
   ]
  },
  {
   "cell_type": "code",
   "execution_count": 115,
   "id": "f405a1f4",
   "metadata": {},
   "outputs": [
    {
     "data": {
      "text/plain": [
       "150"
      ]
     },
     "execution_count": 115,
     "metadata": {},
     "output_type": "execute_result"
    }
   ],
   "source": [
    "sum(x_opt.!= 0)"
   ]
  },
  {
   "cell_type": "code",
   "execution_count": 116,
   "id": "55fa4c42",
   "metadata": {},
   "outputs": [
    {
     "data": {
      "image/png": "[encoded data removed]",
      "text/plain": [
       "Figure(PyObject <Figure size 640x480 with 1 Axes>)"
      ]
     },
     "metadata": {},
     "output_type": "display_data"
    },
    {
     "name": "stdout",
     "output_type": "stream",
     "text": [
      "1 6 3489.0\n",
      "1 25 48.0\n",
      "1 27 5824.0\n",
      "1 50 2428.0\n",
      "2 3 16.0\n",
      "2 4 35.0\n",
      "2 16 54.0\n",
      "3 2 13.0\n",
      "3 4 46.0\n",
      "4 2 38.0\n",
      "4 3 50.0\n",
      "4 5 8.0\n",
      "4 35 146.0\n",
      "5 4 20.0\n",
      "5 35 1396.0\n",
      "5 37 1262.0\n",
      "6 1 4144.0\n",
      "6 46 5695.0\n",
      "6 50 5990.0\n",
      "7 47 658.0\n",
      "7 48 657.0\n",
      "8 43 99.0\n",
      "8 49 10.0\n",
      "9 13 1387.0\n",
      "9 45 1621.0\n",
      "9 51 2743.0\n",
      "10 12 4.0\n",
      "10 28 8.0\n",
      "10 31 46.0\n",
      "11 12 574.0\n",
      "11 28 255.0\n",
      "12 10 5.0\n",
      "12 11 486.0\n",
      "12 23 700.0\n",
      "13 9 1598.0\n",
      "13 14 7966.0\n",
      "13 17 168.0\n",
      "14 13 8641.0\n",
      "14 17 2218.0\n",
      "14 25 11797.0\n",
      "14 27 411.0\n",
      "15 16 2050.0\n",
      "15 25 9544.0\n",
      "15 40 2266.0\n",
      "15 42 5471.0\n",
      "15 50 6409.0\n",
      "16 2 57.0\n",
      "16 15 1913.0\n",
      "16 40 1693.0\n",
      "16 42 2966.0\n",
      "17 13 175.0\n",
      "17 14 1953.0\n",
      "17 39 162.0\n",
      "17 41 1240.0\n",
      "18 19 864.0\n",
      "18 29 1052.0\n",
      "19 18 853.0\n",
      "19 23 812.0\n",
      "20 21 122.0\n",
      "20 23 85.0\n",
      "21 20 97.0\n",
      "21 22 50.0\n",
      "22 21 34.0\n",
      "23 12 646.0\n",
      "23 19 817.0\n",
      "23 20 120.0\n",
      "24 30 1488.0\n",
      "24 32 1457.0\n",
      "25 1 47.0\n",
      "25 14 11462.0\n",
      "25 15 9510.0\n",
      "25 27 75.0\n",
      "25 41 276.0\n",
      "25 50 1542.0\n",
      "26 45 1238.0\n",
      "27 1 5022.0\n",
      "27 14 399.0\n",
      "27 25 78.0\n",
      "27 51 3254.0\n",
      "28 10 8.0\n",
      "28 11 387.0\n",
      "29 18 1070.0\n",
      "29 30 1065.0\n",
      "30 24 1383.0\n",
      "30 29 1088.0\n",
      "30 31 454.0\n",
      "31 10 60.0\n",
      "31 30 370.0\n",
      "32 24 1593.0\n",
      "32 33 1469.0\n",
      "33 32 1610.0\n",
      "33 35 1471.0\n",
      "34 35 1.0\n",
      "34 36 37.0\n",
      "35 4 147.0\n",
      "35 5 1245.0\n",
      "35 33 1622.0\n",
      "35 34 1.0\n",
      "35 36 106.0\n",
      "36 34 52.0\n",
      "36 35 152.0\n",
      "36 37 157.0\n",
      "36 38 562.0\n",
      "37 5 1447.0\n",
      "37 36 172.0\n",
      "37 38 602.0\n",
      "37 40 1519.0\n",
      "38 36 587.0\n",
      "38 37 514.0\n",
      "38 39 251.0\n",
      "38 41 773.0\n",
      "39 17 138.0\n",
      "39 38 184.0\n",
      "40 15 1851.0\n",
      "40 16 1687.0\n",
      "40 37 1693.0\n",
      "40 41 2473.0\n",
      "41 17 1313.0\n",
      "41 25 300.0\n",
      "41 38 884.0\n",
      "41 40 2309.0\n",
      "42 15 5517.0\n",
      "42 16 3101.0\n",
      "42 44 2550.0\n",
      "42 46 2441.0\n",
      "43 8 199.0\n",
      "43 44 2618.0\n",
      "43 47 613.0\n",
      "43 49 2493.0\n",
      "44 42 2476.0\n",
      "44 43 2292.0\n",
      "44 46 106.0\n",
      "45 9 1301.0\n",
      "45 26 1591.0\n",
      "46 6 5645.0\n",
      "46 42 2543.0\n",
      "46 44 151.0\n",
      "46 48 700.0\n",
      "47 7 650.0\n",
      "47 43 604.0\n",
      "48 7 669.0\n",
      "48 46 679.0\n",
      "49 8 17.0\n",
      "49 43 2962.0\n",
      "50 1 2823.0\n",
      "50 6 5165.0\n",
      "50 15 6528.0\n",
      "50 25 1819.0\n",
      "51 9 3213.0\n",
      "51 27 2771.0\n"
     ]
    }
   ],
   "source": [
    "X = round.(inters[!,:X],digits = 6)\n",
    "Y = round.(inters[!,:Y],digits = 6)\n",
    "scatter(X,Y,s=5);\n",
    "i = 1\n",
    "for row1 in eachrow(inters)\n",
    "    for row2 in eachrow(inters)\n",
    "        if row1[:IntersectionID] != row2[:IntersectionID]\n",
    "            if(x_opt[i]>0)\n",
    "                plot((row1[:Lon], row2[:Lon]),(row1[:Lat], row2[:Lat]),color = \"black\",alpha = .5)\n",
    "                println(\"$(row1[:IntersectionID]) $(row2[:IntersectionID]) $(x_opt[i])\")\n",
    "            end\n",
    "            i+=1\n",
    "        end\n",
    "    end\n",
    "end\n"
   ]
  },
  {
   "cell_type": "code",
   "execution_count": 117,
   "id": "f55dcd0b",
   "metadata": {},
   "outputs": [
    {
     "data": {
      "text/plain": [
       "622"
      ]
     },
     "execution_count": 117,
     "metadata": {},
     "output_type": "execute_result"
    }
   ],
   "source": [
    "sum(mvmtInt[!,:Flow].>0)"
   ]
  },
  {
   "cell_type": "code",
   "execution_count": 118,
   "id": "954264e6",
   "metadata": {},
   "outputs": [
    {
     "data": {
      "text/html": [
       "<div class=\"data-frame\"><p>1,030 rows × 17 columns (omitted printing of 10 columns)</p><table class=\"data-frame\"><thead><tr><th></th><th>X</th><th>Y</th><th>OBJECTID</th><th>IntersectionID</th><th>InterDescription</th><th>Lat</th><th>Lon</th></tr><tr><th></th><th title=\"Float64\">Float64</th><th title=\"Float64\">Float64</th><th title=\"Int64\">Int64</th><th title=\"Int64\">Int64</th><th title=\"Missing\">Missing</th><th title=\"Float64\">Float64</th><th title=\"Float64\">Float64</th></tr></thead><tbody><tr><th>1</th><td>-89.42</td><td>43.105</td><td>1015</td><td>2</td><td><em>missing</em></td><td>43.105</td><td>-89.42</td></tr><tr><th>2</th><td>-89.4287</td><td>43.0743</td><td>1016</td><td>3</td><td><em>missing</em></td><td>43.0743</td><td>-89.4287</td></tr><tr><th>3</th><td>-89.4282</td><td>43.0808</td><td>1017</td><td>4</td><td><em>missing</em></td><td>43.0808</td><td>-89.4282</td></tr><tr><th>4</th><td>-89.4289</td><td>43.0842</td><td>1018</td><td>5</td><td><em>missing</em></td><td>43.0842</td><td>-89.4289</td></tr><tr><th>5</th><td>-89.4336</td><td>43.0862</td><td>1019</td><td>6</td><td><em>missing</em></td><td>43.0862</td><td>-89.4336</td></tr><tr><th>6</th><td>-89.4349</td><td>43.0862</td><td>1020</td><td>7</td><td><em>missing</em></td><td>43.0862</td><td>-89.4349</td></tr><tr><th>7</th><td>-89.4364</td><td>43.0862</td><td>1021</td><td>8</td><td><em>missing</em></td><td>43.0862</td><td>-89.4364</td></tr><tr><th>8</th><td>-89.4386</td><td>43.0863</td><td>1022</td><td>9</td><td><em>missing</em></td><td>43.0863</td><td>-89.4386</td></tr><tr><th>9</th><td>-89.4417</td><td>43.0866</td><td>1023</td><td>10</td><td><em>missing</em></td><td>43.0867</td><td>-89.4417</td></tr><tr><th>10</th><td>-89.4382</td><td>43.0891</td><td>1024</td><td>11</td><td><em>missing</em></td><td>43.0891</td><td>-89.4382</td></tr><tr><th>11</th><td>-89.4373</td><td>43.0897</td><td>1025</td><td>12</td><td><em>missing</em></td><td>43.0897</td><td>-89.4373</td></tr><tr><th>12</th><td>-89.4357</td><td>43.0905</td><td>1026</td><td>13</td><td><em>missing</em></td><td>43.0905</td><td>-89.4357</td></tr><tr><th>13</th><td>-89.4336</td><td>43.0893</td><td>1027</td><td>14</td><td><em>missing</em></td><td>43.0893</td><td>-89.4337</td></tr><tr><th>14</th><td>-89.4334</td><td>43.0782</td><td>1028</td><td>15</td><td><em>missing</em></td><td>43.0782</td><td>-89.4334</td></tr><tr><th>15</th><td>-89.4529</td><td>43.0713</td><td>1029</td><td>16</td><td><em>missing</em></td><td>43.0713</td><td>-89.4529</td></tr><tr><th>16</th><td>-89.4553</td><td>43.0715</td><td>1030</td><td>17</td><td><em>missing</em></td><td>43.0715</td><td>-89.4553</td></tr><tr><th>17</th><td>-89.4596</td><td>43.0728</td><td>1031</td><td>18</td><td><em>missing</em></td><td>43.0728</td><td>-89.4596</td></tr><tr><th>18</th><td>-89.4675</td><td>43.0762</td><td>1032</td><td>19</td><td><em>missing</em></td><td>43.0762</td><td>-89.4675</td></tr><tr><th>19</th><td>-89.4723</td><td>43.0797</td><td>1033</td><td>20</td><td><em>missing</em></td><td>43.0798</td><td>-89.4723</td></tr><tr><th>20</th><td>-89.4857</td><td>43.0939</td><td>1034</td><td>21</td><td><em>missing</em></td><td>43.0939</td><td>-89.4857</td></tr><tr><th>21</th><td>-89.5196</td><td>43.099</td><td>1035</td><td>22</td><td><em>missing</em></td><td>43.099</td><td>-89.5196</td></tr><tr><th>22</th><td>-89.5299</td><td>43.0929</td><td>1036</td><td>23</td><td><em>missing</em></td><td>43.0929</td><td>-89.5299</td></tr><tr><th>23</th><td>-89.5297</td><td>43.0903</td><td>1037</td><td>24</td><td><em>missing</em></td><td>43.0903</td><td>-89.5297</td></tr><tr><th>24</th><td>-89.5329</td><td>43.088</td><td>1038</td><td>25</td><td><em>missing</em></td><td>43.088</td><td>-89.5329</td></tr><tr><th>25</th><td>-89.5268</td><td>43.0837</td><td>1039</td><td>26</td><td><em>missing</em></td><td>43.0838</td><td>-89.5268</td></tr><tr><th>26</th><td>-89.5293</td><td>43.0794</td><td>1040</td><td>27</td><td><em>missing</em></td><td>43.0794</td><td>-89.5293</td></tr><tr><th>27</th><td>-89.5247</td><td>43.0753</td><td>1041</td><td>28</td><td><em>missing</em></td><td>43.0753</td><td>-89.5247</td></tr><tr><th>28</th><td>-89.5252</td><td>43.072</td><td>1042</td><td>30</td><td><em>missing</em></td><td>43.072</td><td>-89.5252</td></tr><tr><th>29</th><td>-89.533</td><td>43.0792</td><td>1043</td><td>31</td><td><em>missing</em></td><td>43.0793</td><td>-89.533</td></tr><tr><th>30</th><td>-89.5256</td><td>43.0653</td><td>1044</td><td>32</td><td><em>missing</em></td><td>43.0653</td><td>-89.5256</td></tr><tr><th>&vellip;</th><td>&vellip;</td><td>&vellip;</td><td>&vellip;</td><td>&vellip;</td><td>&vellip;</td><td>&vellip;</td><td>&vellip;</td></tr></tbody></table></div>"
      ],
      "text/latex": [
       "\\begin{tabular}{r|cccccccc}\n",
       "\t& X & Y & OBJECTID & IntersectionID & InterDescription & Lat & Lon & \\\\\n",
       "\t\\hline\n",
       "\t& Float64 & Float64 & Int64 & Int64 & Missing & Float64 & Float64 & \\\\\n",
       "\t\\hline\n",
       "\t1 & -89.42 & 43.105 & 1015 & 2 & \\emph{missing} & 43.105 & -89.42 & $\\dots$ \\\\\n",
       "\t2 & -89.4287 & 43.0743 & 1016 & 3 & \\emph{missing} & 43.0743 & -89.4287 & $\\dots$ \\\\\n",
       "\t3 & -89.4282 & 43.0808 & 1017 & 4 & \\emph{missing} & 43.0808 & -89.4282 & $\\dots$ \\\\\n",
       "\t4 & -89.4289 & 43.0842 & 1018 & 5 & \\emph{missing} & 43.0842 & -89.4289 & $\\dots$ \\\\\n",
       "\t5 & -89.4336 & 43.0862 & 1019 & 6 & \\emph{missing} & 43.0862 & -89.4336 & $\\dots$ \\\\\n",
       "\t6 & -89.4349 & 43.0862 & 1020 & 7 & \\emph{missing} & 43.0862 & -89.4349 & $\\dots$ \\\\\n",
       "\t7 & -89.4364 & 43.0862 & 1021 & 8 & \\emph{missing} & 43.0862 & -89.4364 & $\\dots$ \\\\\n",
       "\t8 & -89.4386 & 43.0863 & 1022 & 9 & \\emph{missing} & 43.0863 & -89.4386 & $\\dots$ \\\\\n",
       "\t9 & -89.4417 & 43.0866 & 1023 & 10 & \\emph{missing} & 43.0867 & -89.4417 & $\\dots$ \\\\\n",
       "\t10 & -89.4382 & 43.0891 & 1024 & 11 & \\emph{missing} & 43.0891 & -89.4382 & $\\dots$ \\\\\n",
       "\t11 & -89.4373 & 43.0897 & 1025 & 12 & \\emph{missing} & 43.0897 & -89.4373 & $\\dots$ \\\\\n",
       "\t12 & -89.4357 & 43.0905 & 1026 & 13 & \\emph{missing} & 43.0905 & -89.4357 & $\\dots$ \\\\\n",
       "\t13 & -89.4336 & 43.0893 & 1027 & 14 & \\emph{missing} & 43.0893 & -89.4337 & $\\dots$ \\\\\n",
       "\t14 & -89.4334 & 43.0782 & 1028 & 15 & \\emph{missing} & 43.0782 & -89.4334 & $\\dots$ \\\\\n",
       "\t15 & -89.4529 & 43.0713 & 1029 & 16 & \\emph{missing} & 43.0713 & -89.4529 & $\\dots$ \\\\\n",
       "\t16 & -89.4553 & 43.0715 & 1030 & 17 & \\emph{missing} & 43.0715 & -89.4553 & $\\dots$ \\\\\n",
       "\t17 & -89.4596 & 43.0728 & 1031 & 18 & \\emph{missing} & 43.0728 & -89.4596 & $\\dots$ \\\\\n",
       "\t18 & -89.4675 & 43.0762 & 1032 & 19 & \\emph{missing} & 43.0762 & -89.4675 & $\\dots$ \\\\\n",
       "\t19 & -89.4723 & 43.0797 & 1033 & 20 & \\emph{missing} & 43.0798 & -89.4723 & $\\dots$ \\\\\n",
       "\t20 & -89.4857 & 43.0939 & 1034 & 21 & \\emph{missing} & 43.0939 & -89.4857 & $\\dots$ \\\\\n",
       "\t21 & -89.5196 & 43.099 & 1035 & 22 & \\emph{missing} & 43.099 & -89.5196 & $\\dots$ \\\\\n",
       "\t22 & -89.5299 & 43.0929 & 1036 & 23 & \\emph{missing} & 43.0929 & -89.5299 & $\\dots$ \\\\\n",
       "\t23 & -89.5297 & 43.0903 & 1037 & 24 & \\emph{missing} & 43.0903 & -89.5297 & $\\dots$ \\\\\n",
       "\t24 & -89.5329 & 43.088 & 1038 & 25 & \\emph{missing} & 43.088 & -89.5329 & $\\dots$ \\\\\n",
       "\t25 & -89.5268 & 43.0837 & 1039 & 26 & \\emph{missing} & 43.0838 & -89.5268 & $\\dots$ \\\\\n",
       "\t26 & -89.5293 & 43.0794 & 1040 & 27 & \\emph{missing} & 43.0794 & -89.5293 & $\\dots$ \\\\\n",
       "\t27 & -89.5247 & 43.0753 & 1041 & 28 & \\emph{missing} & 43.0753 & -89.5247 & $\\dots$ \\\\\n",
       "\t28 & -89.5252 & 43.072 & 1042 & 30 & \\emph{missing} & 43.072 & -89.5252 & $\\dots$ \\\\\n",
       "\t29 & -89.533 & 43.0792 & 1043 & 31 & \\emph{missing} & 43.0793 & -89.533 & $\\dots$ \\\\\n",
       "\t30 & -89.5256 & 43.0653 & 1044 & 32 & \\emph{missing} & 43.0653 & -89.5256 & $\\dots$ \\\\\n",
       "\t$\\dots$ & $\\dots$ & $\\dots$ & $\\dots$ & $\\dots$ & $\\dots$ & $\\dots$ & $\\dots$ &  \\\\\n",
       "\\end{tabular}\n"
      ],
      "text/plain": [
       "\u001b[1m1030×17 DataFrame\u001b[0m\n",
       "\u001b[1m  Row \u001b[0m│\u001b[1m X        \u001b[0m\u001b[1m Y       \u001b[0m\u001b[1m OBJECTID \u001b[0m\u001b[1m IntersectionID \u001b[0m\u001b[1m InterDescription \u001b[0m\u001b[1m Lat    \u001b[0m ⋯\n",
       "\u001b[1m      \u001b[0m│\u001b[90m Float64  \u001b[0m\u001b[90m Float64 \u001b[0m\u001b[90m Int64    \u001b[0m\u001b[90m Int64          \u001b[0m\u001b[90m Missing          \u001b[0m\u001b[90m Float64\u001b[0m ⋯\n",
       "──────┼─────────────────────────────────────────────────────────────────────────\n",
       "    1 │ -89.42    43.105       1015               2 \u001b[90m          missing \u001b[0m 43.105  ⋯\n",
       "    2 │ -89.4287  43.0743      1016               3 \u001b[90m          missing \u001b[0m 43.0743\n",
       "    3 │ -89.4282  43.0808      1017               4 \u001b[90m          missing \u001b[0m 43.0808\n",
       "    4 │ -89.4289  43.0842      1018               5 \u001b[90m          missing \u001b[0m 43.0842\n",
       "    5 │ -89.4336  43.0862      1019               6 \u001b[90m          missing \u001b[0m 43.0862 ⋯\n",
       "    6 │ -89.4349  43.0862      1020               7 \u001b[90m          missing \u001b[0m 43.0862\n",
       "    7 │ -89.4364  43.0862      1021               8 \u001b[90m          missing \u001b[0m 43.0862\n",
       "    8 │ -89.4386  43.0863      1022               9 \u001b[90m          missing \u001b[0m 43.0863\n",
       "    9 │ -89.4417  43.0866      1023              10 \u001b[90m          missing \u001b[0m 43.0867 ⋯\n",
       "   10 │ -89.4382  43.0891      1024              11 \u001b[90m          missing \u001b[0m 43.0891\n",
       "   11 │ -89.4373  43.0897      1025              12 \u001b[90m          missing \u001b[0m 43.0897\n",
       "  ⋮   │    ⋮         ⋮        ⋮            ⋮                ⋮             ⋮    ⋱\n",
       " 1021 │ -89.2481  43.1713      2035            1026 \u001b[90m          missing \u001b[0m 43.1713\n",
       " 1022 │ -89.2448  43.1742      2036            1027 \u001b[90m          missing \u001b[0m 43.1742 ⋯\n",
       " 1023 │ -89.2489  43.1759      2037            1028 \u001b[90m          missing \u001b[0m 43.1759\n",
       " 1024 │ -89.2551  43.1764      2038            1029 \u001b[90m          missing \u001b[0m 43.1764\n",
       " 1025 │ -89.2641  43.176       2039            1030 \u001b[90m          missing \u001b[0m 43.176\n",
       " 1026 │ -89.265   43.1717      2040            1031 \u001b[90m          missing \u001b[0m 43.1717 ⋯\n",
       " 1027 │ -89.2702  43.1717      2041            1032 \u001b[90m          missing \u001b[0m 43.1717\n",
       " 1028 │ -89.2704  43.1692      2042            1033 \u001b[90m          missing \u001b[0m 43.1692\n",
       " 1029 │ -89.2724  43.1662      2043            1034 \u001b[90m          missing \u001b[0m 43.1662\n",
       " 1030 │ -89.2782  43.165       2044            1035 \u001b[90m          missing \u001b[0m 43.165  ⋯\n",
       "\u001b[36m                                                11 columns and 1009 rows omitted\u001b[0m"
      ]
     },
     "execution_count": 118,
     "metadata": {},
     "output_type": "execute_result"
    }
   ],
   "source": [
    "raw3"
   ]
  },
  {
   "cell_type": "code",
   "execution_count": null,
   "id": "7dc1aa23",
   "metadata": {},
   "outputs": [],
   "source": [
    "inters"
   ]
  },
  {
   "cell_type": "code",
   "execution_count": null,
   "id": "4f0ec73c",
   "metadata": {},
   "outputs": [],
   "source": []
  }
 ],
 "metadata": {
  "kernelspec": {
   "display_name": "Julia 1.7.1",
   "language": "julia",
   "name": "julia-1.7"
  },
  "language_info": {
   "file_extension": ".jl",
   "mimetype": "application/julia",
   "name": "julia",
   "version": "1.7.1"
  }
 },
 "nbformat": 4,
 "nbformat_minor": 5
}
